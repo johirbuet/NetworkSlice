{
 "cells": [
  {
   "cell_type": "code",
   "execution_count": 1,
   "metadata": {},
   "outputs": [
    {
     "name": "stdout",
     "output_type": "stream",
     "text": [
      "/Users/rangeet/anaconda3/lib/python3.7/site-packages/numpy/__init__.py\n",
      "1.15.4\n",
      "0.14.1\n"
     ]
    },
    {
     "name": "stderr",
     "output_type": "stream",
     "text": [
      "Using TensorFlow backend.\n"
     ]
    }
   ],
   "source": [
    "# All the imports\n",
    "import numpy as np\n",
    "import skimage as ski\n",
    "print(np.__file__)\n",
    "print(np.__version__)\n",
    "print(ski.__version__)\n",
    "import keras\n",
    "from keras.datasets import mnist\n",
    "from keras.models import Sequential\n",
    "from keras.layers import Dense, Dropout, Flatten\n",
    "from keras.layers import Conv2D, MaxPooling2D\n",
    "from keras import backend as K\n",
    "\n",
    "import matplotlib.pyplot as plt\n",
    "\n",
    "import keras\n",
    "from keras.datasets import mnist\n",
    "from keras.models import Sequential\n",
    "from keras.layers import Dense, Dropout\n",
    "from keras.optimizers import RMSprop\n",
    "import tensorflow as tf\n",
    "from skimage.transform import resize\n",
    "from graphviz import Graph, render\n",
    "from utils.netviz import NetViz\n",
    "from utils.mnistutil import MNISTUitl\n",
    "#(A, Ay), (B, By) = mnist.load_data()\n",
    "#x = A[1]\n",
    "#print(x.shape)\n",
    "#xr = resize(x, (7, 7))\n",
    "#print(xr.shape)\n",
    "#plt.imshow(xr)\n",
    "#plt.show()\n",
    "#plt.imshow(x)\n",
    "#plt.show()\n",
    "sx = 28\n",
    "sy = 28"
   ]
  },
  {
   "cell_type": "code",
   "execution_count": 2,
   "metadata": {},
   "outputs": [],
   "source": [
    "from utils.netviz import NetViz\n",
    "mn = MNISTUitl()\n",
    "viz = NetViz()"
   ]
  },
  {
   "cell_type": "code",
   "execution_count": 3,
   "metadata": {},
   "outputs": [
    {
     "data": {
      "text/plain": [
       "\"/Users/rangeet/Documents/Hridesh Rajan/ICSE'19/NetworkSlice\""
      ]
     },
     "execution_count": 3,
     "metadata": {},
     "output_type": "execute_result"
    }
   ],
   "source": [
    "pwd"
   ]
  },
  {
   "cell_type": "code",
   "execution_count": 4,
   "metadata": {},
   "outputs": [
    {
     "name": "stderr",
     "output_type": "stream",
     "text": [
      "/Users/rangeet/anaconda3/lib/python3.7/site-packages/skimage/transform/_warps.py:110: UserWarning: Anti-aliasing will be enabled by default in skimage 0.15 to avoid aliasing artifacts when down-sampling images.\n",
      "  warn(\"Anti-aliasing will be enabled by default in skimage 0.15 to \"\n"
     ]
    },
    {
     "data": {
      "text/plain": [
       "(60000, 28, 28)"
      ]
     },
     "execution_count": 4,
     "metadata": {},
     "output_type": "execute_result"
    }
   ],
   "source": [
    "X, Y, x, y = mn.getdata2(0,0,sx,sy)\n",
    "X.shape"
   ]
  },
  {
   "cell_type": "code",
   "execution_count": 5,
   "metadata": {},
   "outputs": [
    {
     "name": "stdout",
     "output_type": "stream",
     "text": [
      "(60000, 28, 28) (60000,) (10000, 28, 28) (10000,)\n"
     ]
    }
   ],
   "source": [
    "print(X.shape,Y.shape, x.shape,y.shape)"
   ]
  },
  {
   "cell_type": "code",
   "execution_count": 6,
   "metadata": {},
   "outputs": [
    {
     "name": "stdout",
     "output_type": "stream",
     "text": [
      "x_train shape: (60000, 28, 28, 1)\n",
      "(60000, 28, 28, 1) 60000 train samples (60000,)\n",
      "10000 test samples\n",
      "(60000,) (60000,)\n",
      "WARNING:tensorflow:From /Users/rangeet/anaconda3/lib/python3.7/site-packages/tensorflow/python/framework/op_def_library.py:263: colocate_with (from tensorflow.python.framework.ops) is deprecated and will be removed in a future version.\n",
      "Instructions for updating:\n",
      "Colocations handled automatically by placer.\n",
      "_________________________________________________________________\n",
      "Layer (type)                 Output Shape              Param #   \n",
      "=================================================================\n",
      "Input (Flatten)              (None, 784)               0         \n",
      "_________________________________________________________________\n",
      "H (Dense)                    (None, 49)                38465     \n",
      "_________________________________________________________________\n",
      "output (Dense)               (None, 10)                500       \n",
      "=================================================================\n",
      "Total params: 38,965\n",
      "Trainable params: 38,965\n",
      "Non-trainable params: 0\n",
      "_________________________________________________________________\n",
      "None\n",
      "WARNING:tensorflow:From /Users/rangeet/anaconda3/lib/python3.7/site-packages/tensorflow/python/ops/math_ops.py:3066: to_int32 (from tensorflow.python.ops.math_ops) is deprecated and will be removed in a future version.\n",
      "Instructions for updating:\n",
      "Use tf.cast instead.\n",
      "Epoch 1/50\n",
      "60000/60000 [==============================] - 1s 23us/step - loss: 1.4061 - acc: 0.6783\n",
      "Epoch 2/50\n",
      "60000/60000 [==============================] - 1s 20us/step - loss: 0.6071 - acc: 0.8531\n",
      "Epoch 3/50\n",
      "60000/60000 [==============================] - 1s 20us/step - loss: 0.4498 - acc: 0.8828\n",
      "Epoch 4/50\n",
      "60000/60000 [==============================] - 1s 20us/step - loss: 0.3884 - acc: 0.8945\n",
      "Epoch 5/50\n",
      "60000/60000 [==============================] - 1s 20us/step - loss: 0.3560 - acc: 0.9006\n",
      "Epoch 6/50\n",
      "60000/60000 [==============================] - 1s 20us/step - loss: 0.3355 - acc: 0.9054\n",
      "Epoch 7/50\n",
      "60000/60000 [==============================] - 1s 20us/step - loss: 0.3212 - acc: 0.9091\n",
      "Epoch 8/50\n",
      "60000/60000 [==============================] - 1s 21us/step - loss: 0.3102 - acc: 0.9117\n",
      "Epoch 9/50\n",
      "60000/60000 [==============================] - 1s 20us/step - loss: 0.3016 - acc: 0.9135\n",
      "Epoch 10/50\n",
      "60000/60000 [==============================] - 1s 20us/step - loss: 0.2942 - acc: 0.9153\n",
      "Epoch 11/50\n",
      "60000/60000 [==============================] - 1s 20us/step - loss: 0.2878 - acc: 0.9169\n",
      "Epoch 12/50\n",
      "60000/60000 [==============================] - 1s 20us/step - loss: 0.2821 - acc: 0.9190\n",
      "Epoch 13/50\n",
      "60000/60000 [==============================] - 1s 20us/step - loss: 0.2768 - acc: 0.9197\n",
      "Epoch 14/50\n",
      "60000/60000 [==============================] - 1s 20us/step - loss: 0.2715 - acc: 0.9216\n",
      "Epoch 15/50\n",
      "60000/60000 [==============================] - 1s 20us/step - loss: 0.2668 - acc: 0.9231\n",
      "Epoch 16/50\n",
      "60000/60000 [==============================] - 1s 20us/step - loss: 0.2623 - acc: 0.9236\n",
      "Epoch 17/50\n",
      "60000/60000 [==============================] - 1s 20us/step - loss: 0.2578 - acc: 0.9257\n",
      "Epoch 18/50\n",
      "60000/60000 [==============================] - 1s 20us/step - loss: 0.2537 - acc: 0.9267\n",
      "Epoch 19/50\n",
      "60000/60000 [==============================] - 1s 20us/step - loss: 0.2493 - acc: 0.9286\n",
      "Epoch 20/50\n",
      "60000/60000 [==============================] - 1s 20us/step - loss: 0.2453 - acc: 0.9298\n",
      "Epoch 21/50\n",
      "60000/60000 [==============================] - 1s 20us/step - loss: 0.2411 - acc: 0.9312\n",
      "Epoch 22/50\n",
      "60000/60000 [==============================] - 1s 20us/step - loss: 0.2370 - acc: 0.9319\n",
      "Epoch 23/50\n",
      "60000/60000 [==============================] - 1s 20us/step - loss: 0.2334 - acc: 0.9333\n",
      "Epoch 24/50\n",
      "60000/60000 [==============================] - 1s 20us/step - loss: 0.2292 - acc: 0.9346\n",
      "Epoch 25/50\n",
      "60000/60000 [==============================] - 1s 20us/step - loss: 0.2255 - acc: 0.9349\n",
      "Epoch 26/50\n",
      "60000/60000 [==============================] - 1s 20us/step - loss: 0.2219 - acc: 0.9364\n",
      "Epoch 27/50\n",
      "60000/60000 [==============================] - 1s 20us/step - loss: 0.2181 - acc: 0.9377\n",
      "Epoch 28/50\n",
      "60000/60000 [==============================] - 1s 20us/step - loss: 0.2146 - acc: 0.9385\n",
      "Epoch 29/50\n",
      "60000/60000 [==============================] - 1s 20us/step - loss: 0.2113 - acc: 0.9396\n",
      "Epoch 30/50\n",
      "60000/60000 [==============================] - 1s 20us/step - loss: 0.2079 - acc: 0.9408\n",
      "Epoch 31/50\n",
      "60000/60000 [==============================] - 1s 20us/step - loss: 0.2047 - acc: 0.9415\n",
      "Epoch 32/50\n",
      "60000/60000 [==============================] - 1s 20us/step - loss: 0.2015 - acc: 0.9422\n",
      "Epoch 33/50\n",
      "60000/60000 [==============================] - 1s 20us/step - loss: 0.1985 - acc: 0.9436\n",
      "Epoch 34/50\n",
      "60000/60000 [==============================] - 1s 20us/step - loss: 0.1950 - acc: 0.9448\n",
      "Epoch 35/50\n",
      "60000/60000 [==============================] - 1s 20us/step - loss: 0.1921 - acc: 0.9451\n",
      "Epoch 36/50\n",
      "60000/60000 [==============================] - 1s 20us/step - loss: 0.1893 - acc: 0.9463\n",
      "Epoch 37/50\n",
      "60000/60000 [==============================] - 1s 20us/step - loss: 0.1860 - acc: 0.9470\n",
      "Epoch 38/50\n",
      "60000/60000 [==============================] - 1s 20us/step - loss: 0.1833 - acc: 0.9477\n",
      "Epoch 39/50\n",
      "60000/60000 [==============================] - 1s 20us/step - loss: 0.1803 - acc: 0.9489\n",
      "Epoch 40/50\n",
      "60000/60000 [==============================] - 1s 20us/step - loss: 0.1776 - acc: 0.9496\n",
      "Epoch 41/50\n",
      "60000/60000 [==============================] - 1s 20us/step - loss: 0.1747 - acc: 0.9507\n",
      "Epoch 42/50\n",
      "60000/60000 [==============================] - 1s 20us/step - loss: 0.1720 - acc: 0.9509\n",
      "Epoch 43/50\n",
      "60000/60000 [==============================] - 1s 20us/step - loss: 0.1692 - acc: 0.9519\n",
      "Epoch 44/50\n",
      "60000/60000 [==============================] - 1s 21us/step - loss: 0.1665 - acc: 0.9528\n",
      "Epoch 45/50\n",
      "60000/60000 [==============================] - 1s 20us/step - loss: 0.1636 - acc: 0.9535\n",
      "Epoch 46/50\n",
      "60000/60000 [==============================] - 1s 20us/step - loss: 0.1613 - acc: 0.9543\n",
      "Epoch 47/50\n",
      "60000/60000 [==============================] - 1s 20us/step - loss: 0.1589 - acc: 0.9544\n",
      "Epoch 48/50\n",
      "60000/60000 [==============================] - 1s 20us/step - loss: 0.1565 - acc: 0.9555\n",
      "Epoch 49/50\n",
      "60000/60000 [==============================] - 1s 20us/step - loss: 0.1539 - acc: 0.9565\n",
      "Epoch 50/50\n",
      "60000/60000 [==============================] - 1s 20us/step - loss: 0.1517 - acc: 0.9571\n"
     ]
    }
   ],
   "source": [
    "nm1 , xt1, yt1 = mn.train2(X, Y, x,y,sx,sy,10,50)"
   ]
  },
  {
   "cell_type": "code",
   "execution_count": 8,
   "metadata": {},
   "outputs": [
    {
     "name": "stdout",
     "output_type": "stream",
     "text": [
      "Saved model to disk\n",
      "Saved model to disk\n",
      "Loaded model from disk\n",
      "_________________________________________________________________\n",
      "Layer (type)                 Output Shape              Param #   \n",
      "=================================================================\n",
      "Input (Flatten)              (None, 784)               0         \n",
      "_________________________________________________________________\n",
      "H (Dense)                    (None, 49)                38465     \n",
      "_________________________________________________________________\n",
      "output (Dense)               (None, 10)                500       \n",
      "=================================================================\n",
      "Total params: 38,965\n",
      "Trainable params: 38,965\n",
      "Non-trainable params: 0\n",
      "_________________________________________________________________\n"
     ]
    }
   ],
   "source": [
    "from keras.models import model_from_json, load_model\n",
    "\n",
    "model_json = nm1.to_json()\n",
    "with open(\"model.json\", \"w\") as json_file:\n",
    "    json_file.write(model_json)\n",
    "\n",
    "nm1.save_weights(\"model.hdf5\")\n",
    "print(\"Saved model to disk\")\n",
    "nm1.save_weights(\"model.h5\")\n",
    "print(\"Saved model to disk\")\n",
    "\n",
    "# later...\n",
    "\n",
    "# load json and create model\n",
    "json_file = open('model.json', 'r')\n",
    "loaded_model_json = json_file.read()\n",
    "json_file.close()\n",
    "loaded_model = model_from_json(loaded_model_json)\n",
    "# load weights into new model\n",
    "loaded_model.load_weights(\"model.h5\")\n",
    "print(\"Loaded model from disk\")\n",
    "loaded_model.summary()"
   ]
  },
  {
   "cell_type": "code",
   "execution_count": 9,
   "metadata": {},
   "outputs": [
    {
     "name": "stdout",
     "output_type": "stream",
     "text": [
      "(10000, 28, 28, 1)\n",
      "[7 2 1 ... 4 5 6]\n"
     ]
    }
   ],
   "source": [
    "print(xt1.shape)\n",
    "print(yt1)"
   ]
  },
  {
   "cell_type": "code",
   "execution_count": 15,
   "metadata": {},
   "outputs": [
    {
     "name": "stdout",
     "output_type": "stream",
     "text": [
      "\n"
     ]
    }
   ],
   "source": [
    "s = 10\n",
    "e = 11\n",
    "x1 = xt1[ s:e]\n",
    "y1 = yt1[ s:e]\n",
    "ResultDigit=[]\n",
    "dot, A, g, ab = viz.vispredict(nm1,x1,y1,28,28)\n",
    "ab.append(np.argmax(nm1.predict(x1)))\n",
    "ResultDigit.append(ab)\n",
    "#print(nm.predict(x1),y1)\n",
    "#dot8, A = viz.vispredictwithlabel(nm,x1,y1,sx,sy)\n",
    "#ResultPredict.append(nm.predict(x1),y1)\n",
    "print()\n"
   ]
  },
  {
   "cell_type": "code",
   "execution_count": 7,
   "metadata": {},
   "outputs": [],
   "source": [
    "ResultDigit=[]\n",
    "ResultDigitAdv=[]"
   ]
  },
  {
   "cell_type": "code",
   "execution_count": 8,
   "metadata": {},
   "outputs": [
    {
     "name": "stdout",
     "output_type": "stream",
     "text": [
      "Ori500\n",
      "Ori1000\n",
      "Ori1500\n",
      "Ori2000\n",
      "Ori2500\n",
      "Ori3000\n",
      "Ori3500\n",
      "Ori4000\n",
      "Adv0\n",
      "Adv500\n",
      "Adv1000\n",
      "Adv1500\n",
      "Adv2000\n",
      "Adv2500\n",
      "Adv3000\n",
      "Adv3500\n",
      "Adv4000\n"
     ]
    }
   ],
   "source": [
    "import os\n",
    "path = \"attacks/FGSM/nine/original\"\n",
    "advzero = os.listdir(path)\n",
    "advzero = [os.path.join(path,x) for x in advzero if not x.startswith('.')]\n",
    "i = 0\n",
    "for f in advzero:\n",
    "    im = plt.imread(f)\n",
    "    xo = im\n",
    "    xo = xo.reshape(1,28,28,1)\n",
    "    xo = xo/255\n",
    "    doto, A, g, ab = viz.vispredict(nm1,xo,[9],28,28)\n",
    "    ab.append(np.argmax(nm1.predict(xo)))\n",
    "    ab.append(9)\n",
    "    ab.append(len(ResultDigit))\n",
    "    ResultDigit.append(ab)\n",
    "    lengthRe=len(ResultDigit)\n",
    "    if(lengthRe%500==0):\n",
    "        print(\"Ori\"+str(lengthRe))\n",
    "    #doto.render('output/FGSM/five/original/original_five_{0}.gv'.format(i))\n",
    "    i = i + 1\n",
    "import os\n",
    "path = \"attacks/FGSM/nine/adv\"\n",
    "advzero = os.listdir(path)\n",
    "advzero = [os.path.join(path,x) for x in advzero if not x.startswith('.')]\n",
    "i = 0\n",
    "for f in advzero:\n",
    "    im = plt.imread(f)\n",
    "    xo = im\n",
    "    xo = xo.reshape(1,28,28,1)\n",
    "    xo = xo/255\n",
    "    doto, A, g, ab = viz.vispredict(nm1,xo,[9],28,28)\n",
    "    ab.append(np.argmax(nm1.predict(xo)))\n",
    "    ab.append(9)\n",
    "    ab.append(len(ResultDigitAdv))\n",
    "    lengthRe=len(ResultDigitAdv)\n",
    "    if(lengthRe%500==0):\n",
    "        print(\"Adv\"+str(lengthRe))\n",
    "    ResultDigitAdv.append(ab)\n",
    "    #doto.render('output/FGSM/five/adv/adv_five_{0}.gv'.format(i))\n",
    "    i = i + 1"
   ]
  },
  {
   "cell_type": "code",
   "execution_count": 9,
   "metadata": {},
   "outputs": [
    {
     "name": "stdout",
     "output_type": "stream",
     "text": [
      "Ori4500\n",
      "Ori5000\n",
      "Ori5500\n",
      "Ori6000\n",
      "Ori6500\n",
      "Ori7000\n",
      "Ori7500\n",
      "Ori8000\n",
      "Adv4500\n",
      "Adv5000\n",
      "Adv5500\n",
      "Adv6000\n",
      "Adv6500\n",
      "Adv7000\n",
      "Adv7500\n",
      "Adv8000\n"
     ]
    }
   ],
   "source": [
    "import os\n",
    "path = \"attacks/FGSM/eight/original\"\n",
    "advzero = os.listdir(path)\n",
    "advzero = [os.path.join(path,x) for x in advzero if not x.startswith('.')]\n",
    "i = 0\n",
    "for f in advzero:\n",
    "    im = plt.imread(f)\n",
    "    xo = im\n",
    "    xo = xo.reshape(1,28,28,1)\n",
    "    xo = xo/255\n",
    "    doto, A, g, ab = viz.vispredict(nm1,xo,[8],28,28)\n",
    "    ab.append(np.argmax(nm1.predict(xo)))\n",
    "    ab.append(8)\n",
    "    ab.append(len(ResultDigit))\n",
    "    ResultDigit.append(ab)\n",
    "    lengthRe=len(ResultDigit)\n",
    "    if(lengthRe%500==0):\n",
    "        print(\"Ori\"+str(lengthRe))\n",
    "    #doto.render('output/FGSM/five/original/original_five_{0}.gv'.format(i))\n",
    "    i = i + 1\n",
    "import os\n",
    "path = \"attacks/FGSM/eight/adv\"\n",
    "advzero = os.listdir(path)\n",
    "advzero = [os.path.join(path,x) for x in advzero if not x.startswith('.')]\n",
    "i = 0\n",
    "for f in advzero:\n",
    "    im = plt.imread(f)\n",
    "    xo = im\n",
    "    xo = xo.reshape(1,28,28,1)\n",
    "    xo = xo/255\n",
    "    doto, A, g, ab = viz.vispredict(nm1,xo,[8],28,28)\n",
    "    ab.append(np.argmax(nm1.predict(xo)))\n",
    "    ab.append(8)\n",
    "    ab.append(len(ResultDigitAdv))\n",
    "    ResultDigitAdv.append(ab)\n",
    "    lengthRe=len(ResultDigitAdv)\n",
    "    if(lengthRe%500==0):\n",
    "        print(\"Adv\"+str(lengthRe))\n",
    "    #doto.render('output/FGSM/five/adv/adv_five_{0}.gv'.format(i))\n",
    "    i = i + 1"
   ]
  },
  {
   "cell_type": "code",
   "execution_count": 10,
   "metadata": {},
   "outputs": [
    {
     "name": "stdout",
     "output_type": "stream",
     "text": [
      "Ori8500\n",
      "Ori9000\n",
      "Ori9500\n",
      "Ori10000\n",
      "Ori10500\n",
      "Ori11000\n",
      "Ori11500\n",
      "Ori12000\n",
      "Ori12500\n",
      "Adv8500\n",
      "Adv9000\n",
      "Adv9500\n",
      "Adv10000\n",
      "Adv10500\n",
      "Adv11000\n",
      "Adv11500\n",
      "Adv12000\n",
      "Adv12500\n"
     ]
    }
   ],
   "source": [
    "import os\n",
    "path = \"attacks/FGSM/seven/original\"\n",
    "advzero = os.listdir(path)\n",
    "advzero = [os.path.join(path,x) for x in advzero if not x.startswith('.')]\n",
    "i = 0\n",
    "for f in advzero:\n",
    "    im = plt.imread(f)\n",
    "    xo = im\n",
    "    xo = xo.reshape(1,28,28,1)\n",
    "    xo = xo/255\n",
    "    doto, A, g, ab = viz.vispredict(nm1,xo,[7],28,28)\n",
    "    ab.append(np.argmax(nm1.predict(xo)))\n",
    "    ab.append(7)\n",
    "    ab.append(len(ResultDigit))\n",
    "    ResultDigit.append(ab)\n",
    "    lengthRe=len(ResultDigit)\n",
    "    if(lengthRe%500==0):\n",
    "        print(\"Ori\"+str(lengthRe))\n",
    "    #doto.render('output/FGSM/five/original/original_five_{0}.gv'.format(i))\n",
    "    i = i + 1\n",
    "import os\n",
    "path = \"attacks/FGSM/seven/adv\"\n",
    "advzero = os.listdir(path)\n",
    "advzero = [os.path.join(path,x) for x in advzero if not x.startswith('.')]\n",
    "i = 0\n",
    "for f in advzero:\n",
    "    im = plt.imread(f)\n",
    "    xo = im\n",
    "    xo = xo.reshape(1,28,28,1)\n",
    "    xo = xo/255\n",
    "    doto, A, g, ab = viz.vispredict(nm1,xo,[7],28,28)\n",
    "    ab.append(np.argmax(nm1.predict(xo)))\n",
    "    ab.append(7)\n",
    "    ab.append(len(ResultDigitAdv))\n",
    "    ResultDigitAdv.append(ab)\n",
    "    lengthRe=len(ResultDigitAdv)\n",
    "    if(lengthRe%500==0):\n",
    "        print(\"Adv\"+str(lengthRe))\n",
    "    #doto.render('output/FGSM/five/adv/adv_five_{0}.gv'.format(i))\n",
    "    i = i + 1"
   ]
  },
  {
   "cell_type": "code",
   "execution_count": 11,
   "metadata": {},
   "outputs": [
    {
     "name": "stdout",
     "output_type": "stream",
     "text": [
      "Ori13000\n",
      "Ori13500\n",
      "Ori14000\n",
      "Ori14500\n",
      "Ori15000\n",
      "Ori15500\n",
      "Ori16000\n",
      "Ori16500\n",
      "Adv13000\n",
      "Adv13500\n",
      "Adv14000\n",
      "Adv14500\n",
      "Adv15000\n",
      "Adv15500\n",
      "Adv16000\n",
      "Adv16500\n"
     ]
    }
   ],
   "source": [
    "import os\n",
    "path = \"attacks/FGSM/six/original\"\n",
    "advzero = os.listdir(path)\n",
    "advzero = [os.path.join(path,x) for x in advzero if not x.startswith('.')]\n",
    "i = 0\n",
    "for f in advzero:\n",
    "    im = plt.imread(f)\n",
    "    xo = im\n",
    "    xo = xo.reshape(1,28,28,1)\n",
    "    xo = xo/255\n",
    "    doto, A, g, ab = viz.vispredict(nm1,xo,[6],28,28)\n",
    "    ab.append(np.argmax(nm1.predict(xo)))\n",
    "    ab.append(6)\n",
    "    ab.append(len(ResultDigit))\n",
    "    ResultDigit.append(ab)\n",
    "    lengthRe=len(ResultDigit)\n",
    "    if(lengthRe%500==0):\n",
    "        print(\"Ori\"+str(lengthRe))\n",
    "    #doto.render('output/FGSM/five/original/original_five_{0}.gv'.format(i))\n",
    "    i = i + 1\n",
    "import os\n",
    "path = \"attacks/FGSM/six/adv\"\n",
    "advzero = os.listdir(path)\n",
    "advzero = [os.path.join(path,x) for x in advzero if not x.startswith('.')]\n",
    "i = 0\n",
    "for f in advzero:\n",
    "    im = plt.imread(f)\n",
    "    xo = im\n",
    "    xo = xo.reshape(1,28,28,1)\n",
    "    xo = xo/255\n",
    "    doto, A, g, ab = viz.vispredict(nm1,xo,[6],28,28)\n",
    "    ab.append(np.argmax(nm1.predict(xo)))\n",
    "    ab.append(6)\n",
    "    ab.append(len(ResultDigitAdv))\n",
    "    ResultDigitAdv.append(ab)\n",
    "    lengthRe=len(ResultDigitAdv)\n",
    "    if(lengthRe%500==0):\n",
    "        print(\"Adv\"+str(lengthRe))\n",
    "    #doto.render('output/FGSM/five/adv/adv_five_{0}.gv'.format(i))\n",
    "    i = i + 1"
   ]
  },
  {
   "cell_type": "code",
   "execution_count": 12,
   "metadata": {},
   "outputs": [
    {
     "name": "stdout",
     "output_type": "stream",
     "text": [
      "Ori17000\n",
      "Ori17500\n",
      "Ori18000\n",
      "Ori18500\n",
      "Ori19000\n",
      "Ori19500\n",
      "Ori20000\n",
      "Ori20500\n"
     ]
    }
   ],
   "source": [
    "import os\n",
    "path = \"attacks/FGSM/five/original\"\n",
    "advzero = os.listdir(path)\n",
    "advzero = [os.path.join(path,x) for x in advzero if not x.startswith('.')]\n",
    "i = 0\n",
    "for f in advzero:\n",
    "    im = plt.imread(f)\n",
    "    xo = im\n",
    "    xo = xo.reshape(1,28,28,1)\n",
    "    xo = xo/255\n",
    "    doto, A, g, ab = viz.vispredict(nm1,xo,[5],28,28)\n",
    "    ab.append(np.argmax(nm1.predict(xo)))\n",
    "    ab.append(5)\n",
    "    ab.append(len(ResultDigit))\n",
    "    ResultDigit.append(ab)\n",
    "    lengthRe=len(ResultDigit)\n",
    "    if(lengthRe%500==0):\n",
    "        print(\"Ori\"+str(lengthRe))\n",
    "    #doto.render('output/FGSM/five/original/original_five_{0}.gv'.format(i))\n",
    "    i = i + 1"
   ]
  },
  {
   "cell_type": "code",
   "execution_count": 13,
   "metadata": {},
   "outputs": [
    {
     "name": "stdout",
     "output_type": "stream",
     "text": [
      "Adv17000\n",
      "Adv17500\n",
      "Adv18000\n",
      "Adv18500\n",
      "Adv19000\n",
      "Adv19500\n",
      "Adv20000\n",
      "Adv20500\n"
     ]
    }
   ],
   "source": [
    "import os\n",
    "path = \"attacks/FGSM/five/adv\"\n",
    "advzero = os.listdir(path)\n",
    "advzero = [os.path.join(path,x) for x in advzero if not x.startswith('.')]\n",
    "i = 0\n",
    "for f in advzero:\n",
    "    im = plt.imread(f)\n",
    "    xo = im\n",
    "    xo = xo.reshape(1,28,28,1)\n",
    "    xo = xo/255\n",
    "    doto, A, g, ab = viz.vispredict(nm1,xo,[5],28,28)\n",
    "    ab.append(np.argmax(nm1.predict(xo)))\n",
    "    ab.append(5)\n",
    "    ab.append(len(ResultDigitAdv))\n",
    "    ResultDigitAdv.append(ab)\n",
    "    lengthRe=len(ResultDigitAdv)\n",
    "    if(lengthRe%500==0):\n",
    "        print(\"Adv\"+str(lengthRe))\n",
    "    #doto.render('output/FGSM/five/adv/adv_five_{0}.gv'.format(i))\n",
    "    i = i + 1"
   ]
  },
  {
   "cell_type": "code",
   "execution_count": 14,
   "metadata": {},
   "outputs": [
    {
     "name": "stdout",
     "output_type": "stream",
     "text": [
      "Ori21000\n",
      "Ori21500\n",
      "Ori22000\n",
      "Ori22500\n",
      "Ori23000\n",
      "Ori23500\n",
      "Ori24000\n",
      "Ori24500\n"
     ]
    }
   ],
   "source": [
    "import os\n",
    "path = \"attacks/FGSM/four/original\"\n",
    "advzero = os.listdir(path)\n",
    "advzero = [os.path.join(path,x) for x in advzero if not x.startswith('.')]\n",
    "i = 0\n",
    "for f in advzero:\n",
    "    im = plt.imread(f)\n",
    "    xo = im\n",
    "    xo = xo.reshape(1,28,28,1)\n",
    "    xo = xo/255\n",
    "    doto, A, g, ab = viz.vispredict(nm1,xo,[4],28,28)\n",
    "    ab.append(np.argmax(nm1.predict(xo)))\n",
    "    ab.append(4)\n",
    "    ab.append(len(ResultDigit))\n",
    "    ResultDigit.append(ab)\n",
    "    lengthRe=len(ResultDigit)\n",
    "    if(lengthRe%500==0):\n",
    "        print(\"Ori\"+str(lengthRe))\n",
    "    #doto.render('output/FGSM/five/original/original_five_{0}.gv'.format(i))\n",
    "    i = i + 1"
   ]
  },
  {
   "cell_type": "code",
   "execution_count": 15,
   "metadata": {},
   "outputs": [
    {
     "name": "stdout",
     "output_type": "stream",
     "text": [
      "Adv21000\n",
      "Adv21500\n",
      "Adv22000\n",
      "Adv22500\n",
      "Adv23000\n",
      "Adv23500\n",
      "Adv24000\n",
      "Adv24500\n"
     ]
    }
   ],
   "source": [
    "import os\n",
    "path = \"attacks/FGSM/four/adv\"\n",
    "advzero = os.listdir(path)\n",
    "advzero = [os.path.join(path,x) for x in advzero if not x.startswith('.')]\n",
    "i = 0\n",
    "for f in advzero:\n",
    "    im = plt.imread(f)\n",
    "    xo = im\n",
    "    xo = xo.reshape(1,28,28,1)\n",
    "    xo = xo/255\n",
    "    doto, A, g, ab = viz.vispredict(nm1,xo,[4],28,28)\n",
    "    ab.append(np.argmax(nm1.predict(xo)))\n",
    "    ab.append(4)\n",
    "    ab.append(len(ResultDigitAdv))\n",
    "    ResultDigitAdv.append(ab)\n",
    "    lengthRe=len(ResultDigitAdv)\n",
    "    if(lengthRe%500==0):\n",
    "        print(\"Adv\"+str(lengthRe))\n",
    "    #doto.render('output/FGSM/five/adv/adv_five_{0}.gv'.format(i))\n",
    "    i = i + 1"
   ]
  },
  {
   "cell_type": "code",
   "execution_count": 16,
   "metadata": {},
   "outputs": [
    {
     "name": "stdout",
     "output_type": "stream",
     "text": [
      "Ori25000\n",
      "Ori25500\n",
      "Ori26000\n",
      "Ori26500\n",
      "Ori27000\n",
      "Ori27500\n",
      "Ori28000\n",
      "Ori28500\n",
      "Ori29000\n",
      "Adv25000\n",
      "Adv25500\n",
      "Adv26000\n",
      "Adv26500\n",
      "Adv27000\n",
      "Adv27500\n",
      "Adv28000\n",
      "Adv28500\n",
      "Adv29000\n"
     ]
    }
   ],
   "source": [
    "import os\n",
    "path = \"attacks/FGSM/three/original\"\n",
    "advzero = os.listdir(path)\n",
    "advzero = [os.path.join(path,x) for x in advzero if not x.startswith('.')]\n",
    "i = 0\n",
    "for f in advzero:\n",
    "    im = plt.imread(f)\n",
    "    xo = im\n",
    "    xo = xo.reshape(1,28,28,1)\n",
    "    xo = xo/255\n",
    "    doto, A, g, ab = viz.vispredict(nm1,xo,[3],28,28)\n",
    "    ab.append(np.argmax(nm1.predict(xo)))\n",
    "    ab.append(3)\n",
    "    ab.append(len(ResultDigit))\n",
    "    ResultDigit.append(ab)\n",
    "    lengthRe=len(ResultDigit)\n",
    "    if(lengthRe%500==0):\n",
    "        print(\"Ori\"+str(lengthRe))\n",
    "    #doto.render('output/FGSM/five/original/original_five_{0}.gv'.format(i))\n",
    "    i = i + 1\n",
    "import os\n",
    "path = \"attacks/FGSM/three/adv\"\n",
    "advzero = os.listdir(path)\n",
    "advzero = [os.path.join(path,x) for x in advzero if not x.startswith('.')]\n",
    "i = 0\n",
    "for f in advzero:\n",
    "    im = plt.imread(f)\n",
    "    xo = im\n",
    "    xo = xo.reshape(1,28,28,1)\n",
    "    xo = xo/255\n",
    "    doto, A, g, ab = viz.vispredict(nm1,xo,[3],28,28)\n",
    "    ab.append(np.argmax(nm1.predict(xo)))\n",
    "    ab.append(3)\n",
    "    ab.append(len(ResultDigitAdv))\n",
    "    ResultDigitAdv.append(ab)\n",
    "    lengthRe=len(ResultDigitAdv)\n",
    "    if(lengthRe%500==0):\n",
    "        print(\"Adv\"+str(lengthRe))\n",
    "    #doto.render('output/FGSM/five/adv/adv_five_{0}.gv'.format(i))\n",
    "    i = i + 1"
   ]
  },
  {
   "cell_type": "code",
   "execution_count": 17,
   "metadata": {},
   "outputs": [
    {
     "name": "stdout",
     "output_type": "stream",
     "text": [
      "Ori29500\n",
      "Ori30000\n",
      "Ori30500\n",
      "Ori31000\n",
      "Ori31500\n",
      "Ori32000\n",
      "Ori32500\n",
      "Ori33000\n",
      "Adv29500\n",
      "Adv30000\n",
      "Adv30500\n",
      "Adv31000\n",
      "Adv31500\n",
      "Adv32000\n",
      "Adv32500\n",
      "Adv33000\n"
     ]
    }
   ],
   "source": [
    "import os\n",
    "path = \"attacks/FGSM/two/original\"\n",
    "advzero = os.listdir(path)\n",
    "advzero = [os.path.join(path,x) for x in advzero if not x.startswith('.')]\n",
    "i = 0\n",
    "for f in advzero:\n",
    "    im = plt.imread(f)\n",
    "    xo = im\n",
    "    xo = xo.reshape(1,28,28,1)\n",
    "    xo = xo/255\n",
    "    doto, A, g, ab = viz.vispredict(nm1,xo,[2],28,28)\n",
    "    ab.append(np.argmax(nm1.predict(xo)))\n",
    "    ab.append(2)\n",
    "    ab.append(len(ResultDigit))\n",
    "    ResultDigit.append(ab)\n",
    "    lengthRe=len(ResultDigit)\n",
    "    if(lengthRe%500==0):\n",
    "        print(\"Ori\"+str(lengthRe))\n",
    "    #doto.render('output/FGSM/five/original/original_five_{0}.gv'.format(i))\n",
    "    i = i + 1\n",
    "import os\n",
    "path = \"attacks/FGSM/two/adv\"\n",
    "advzero = os.listdir(path)\n",
    "advzero = [os.path.join(path,x) for x in advzero if not x.startswith('.')]\n",
    "i = 0\n",
    "for f in advzero:\n",
    "    im = plt.imread(f)\n",
    "    xo = im\n",
    "    xo = xo.reshape(1,28,28,1)\n",
    "    xo = xo/255\n",
    "    doto, A, g, ab = viz.vispredict(nm1,xo,[2],28,28)\n",
    "    ab.append(np.argmax(nm1.predict(xo)))\n",
    "    ab.append(2)\n",
    "    ab.append(len(ResultDigitAdv))\n",
    "    ResultDigitAdv.append(ab)\n",
    "    lengthRe=len(ResultDigitAdv)\n",
    "    if(lengthRe%500==0):\n",
    "        print(\"Adv\"+str(lengthRe))\n",
    "    #doto.render('output/FGSM/five/adv/adv_five_{0}.gv'.format(i))\n",
    "    i = i + 1"
   ]
  },
  {
   "cell_type": "code",
   "execution_count": 18,
   "metadata": {},
   "outputs": [
    {
     "name": "stdout",
     "output_type": "stream",
     "text": [
      "Ori33500\n",
      "Ori34000\n",
      "Ori34500\n",
      "Ori35000\n",
      "Ori35500\n",
      "Ori36000\n",
      "Ori36500\n",
      "Ori37000\n",
      "Ori37500\n",
      "Adv33500\n",
      "Adv34000\n",
      "Adv34500\n",
      "Adv35000\n",
      "Adv35500\n",
      "Adv36000\n",
      "Adv36500\n",
      "Adv37000\n",
      "Adv37500\n"
     ]
    }
   ],
   "source": [
    "import os\n",
    "path = \"attacks/FGSM/one/original\"\n",
    "advzero = os.listdir(path)\n",
    "advzero = [os.path.join(path,x) for x in advzero if not x.startswith('.')]\n",
    "i = 0\n",
    "for f in advzero:\n",
    "    im = plt.imread(f)\n",
    "    xo = im\n",
    "    xo = xo.reshape(1,28,28,1)\n",
    "    xo = xo/255\n",
    "    doto, A, g, ab = viz.vispredict(nm1,xo,[1],28,28)\n",
    "    ab.append(np.argmax(nm1.predict(xo)))\n",
    "    ab.append(1)\n",
    "    ab.append(len(ResultDigit))\n",
    "    ResultDigit.append(ab)\n",
    "    lengthRe=len(ResultDigit)\n",
    "    if(lengthRe%500==0):\n",
    "        print(\"Ori\"+str(lengthRe))\n",
    "    #doto.render('output/FGSM/five/original/original_five_{0}.gv'.format(i))\n",
    "    i = i + 1\n",
    "import os\n",
    "path = \"attacks/FGSM/one/adv\"\n",
    "advzero = os.listdir(path)\n",
    "advzero = [os.path.join(path,x) for x in advzero if not x.startswith('.')]\n",
    "i = 0\n",
    "for f in advzero:\n",
    "    im = plt.imread(f)\n",
    "    xo = im\n",
    "    xo = xo.reshape(1,28,28,1)\n",
    "    xo = xo/255\n",
    "    doto, A, g, ab = viz.vispredict(nm1,xo,[1],28,28)\n",
    "    ab.append(np.argmax(nm1.predict(xo)))\n",
    "    ab.append(1)\n",
    "    ab.append(len(ResultDigitAdv))\n",
    "    ResultDigitAdv.append(ab)\n",
    "    lengthRe=len(ResultDigitAdv)\n",
    "    if(lengthRe%500==0):\n",
    "        print(\"Adv\"+str(lengthRe))\n",
    "    #doto.render('output/FGSM/five/adv/adv_five_{0}.gv'.format(i))\n",
    "    i = i + 1"
   ]
  },
  {
   "cell_type": "code",
   "execution_count": 19,
   "metadata": {},
   "outputs": [
    {
     "name": "stdout",
     "output_type": "stream",
     "text": [
      "Ori38000\n",
      "Ori38500\n",
      "Ori39000\n",
      "Ori39500\n",
      "Ori40000\n",
      "Ori40500\n",
      "Ori41000\n",
      "Ori41500\n",
      "Ori42000\n",
      "Adv38000\n",
      "Adv38500\n",
      "Adv39000\n",
      "Adv39500\n",
      "Adv40000\n",
      "Adv40500\n",
      "Adv41000\n",
      "Adv41500\n",
      "Adv42000\n"
     ]
    }
   ],
   "source": [
    "import os\n",
    "path = \"attacks/FGSM/zero/original\"\n",
    "advzero = os.listdir(path)\n",
    "advzero = [os.path.join(path,x) for x in advzero if not x.startswith('.')]\n",
    "i = 0\n",
    "for f in advzero:\n",
    "    im = plt.imread(f)\n",
    "    xo = im\n",
    "    xo = xo.reshape(1,28,28,1)\n",
    "    xo = xo/255\n",
    "    doto, A, g, ab = viz.vispredict(nm1,xo,[0],28,28)\n",
    "    ab.append(np.argmax(nm1.predict(xo)))\n",
    "    ab.append(0)\n",
    "    ab.append(len(ResultDigit))\n",
    "    ResultDigit.append(ab)\n",
    "    lengthRe=len(ResultDigit)\n",
    "    if(lengthRe%500==0):\n",
    "        print(\"Ori\"+str(lengthRe))\n",
    "    #doto.render('output/FGSM/five/original/original_five_{0}.gv'.format(i))\n",
    "    i = i + 1\n",
    "import os\n",
    "path = \"attacks/FGSM/zero/adv\"\n",
    "advzero = os.listdir(path)\n",
    "advzero = [os.path.join(path,x) for x in advzero if not x.startswith('.')]\n",
    "i = 0\n",
    "for f in advzero:\n",
    "    im = plt.imread(f)\n",
    "    xo = im\n",
    "    xo = xo.reshape(1,28,28,1)\n",
    "    xo = xo/255\n",
    "    doto, A, g, ab = viz.vispredict(nm1,xo,[0],28,28)\n",
    "    ab.append(np.argmax(nm1.predict(xo)))\n",
    "    ab.append(0)\n",
    "    ab.append(len(ResultDigitAdv))\n",
    "    ResultDigitAdv.append(ab)\n",
    "    lengthRe=len(ResultDigitAdv)\n",
    "    if(lengthRe%500==0):\n",
    "        print(\"Adv\"+str(lengthRe))\n",
    "    #doto.render('output/FGSM/five/adv/adv_five_{0}.gv'.format(i))\n",
    "    i = i + 1"
   ]
  },
  {
   "cell_type": "code",
   "execution_count": 27,
   "metadata": {},
   "outputs": [],
   "source": [
    "import csv\n",
    "with open(\"Adv.csv\", 'w',  encoding='utf8',newline='') as myfile:\n",
    "     wr = csv.writer(myfile)\n",
    "     for word in ResultDigitAdv:\n",
    "         wr.writerow(word)"
   ]
  },
  {
   "cell_type": "code",
   "execution_count": 25,
   "metadata": {},
   "outputs": [
    {
     "ename": "Exception",
     "evalue": "Unexpected data type <class 'int'>",
     "output_type": "error",
     "traceback": [
      "\u001b[0;31m---------------------------------------------------------------------------\u001b[0m",
      "\u001b[0;31mException\u001b[0m                                 Traceback (most recent call last)",
      "\u001b[0;32m<ipython-input-25-9ae02b5d0ffe>\u001b[0m in \u001b[0;36m<module>\u001b[0;34m\u001b[0m\n\u001b[1;32m      7\u001b[0m \u001b[0;34m\u001b[0m\u001b[0m\n\u001b[1;32m      8\u001b[0m \u001b[0;32mfor\u001b[0m \u001b[0mi\u001b[0m\u001b[0;34m,\u001b[0m\u001b[0me\u001b[0m \u001b[0;32min\u001b[0m \u001b[0menumerate\u001b[0m\u001b[0;34m(\u001b[0m\u001b[0mResultDigit\u001b[0m\u001b[0;34m)\u001b[0m\u001b[0;34m:\u001b[0m\u001b[0;34m\u001b[0m\u001b[0;34m\u001b[0m\u001b[0m\n\u001b[0;32m----> 9\u001b[0;31m     \u001b[0msheet1\u001b[0m\u001b[0;34m.\u001b[0m\u001b[0mwrite\u001b[0m\u001b[0;34m(\u001b[0m\u001b[0mi\u001b[0m\u001b[0;34m,\u001b[0m\u001b[0;36m1\u001b[0m\u001b[0;34m,\u001b[0m\u001b[0me\u001b[0m\u001b[0;34m)\u001b[0m\u001b[0;34m\u001b[0m\u001b[0;34m\u001b[0m\u001b[0m\n\u001b[0m\u001b[1;32m     10\u001b[0m \u001b[0;34m\u001b[0m\u001b[0m\n\u001b[1;32m     11\u001b[0m \u001b[0mname\u001b[0m \u001b[0;34m=\u001b[0m \u001b[0;34m\"random.xls\"\u001b[0m\u001b[0;34m\u001b[0m\u001b[0;34m\u001b[0m\u001b[0m\n",
      "\u001b[0;32m~/anaconda3/lib/python3.7/site-packages/xlwt/Worksheet.py\u001b[0m in \u001b[0;36mwrite\u001b[0;34m(self, r, c, label, style)\u001b[0m\n\u001b[1;32m   1086\u001b[0m            \u001b[0;34m:\u001b[0m\u001b[0;32mclass\u001b[0m\u001b[0;34m:\u001b[0m\u001b[0;31m`\u001b[0m\u001b[0;34m~\u001b[0m\u001b[0mxlwt\u001b[0m\u001b[0;34m.\u001b[0m\u001b[0mStyle\u001b[0m\u001b[0;34m.\u001b[0m\u001b[0mXFStyle\u001b[0m\u001b[0;31m`\u001b[0m \u001b[0mobject\u001b[0m\u001b[0;34m.\u001b[0m\u001b[0;34m\u001b[0m\u001b[0;34m\u001b[0m\u001b[0m\n\u001b[1;32m   1087\u001b[0m         \"\"\"\n\u001b[0;32m-> 1088\u001b[0;31m         \u001b[0mself\u001b[0m\u001b[0;34m.\u001b[0m\u001b[0mrow\u001b[0m\u001b[0;34m(\u001b[0m\u001b[0mr\u001b[0m\u001b[0;34m)\u001b[0m\u001b[0;34m.\u001b[0m\u001b[0mwrite\u001b[0m\u001b[0;34m(\u001b[0m\u001b[0mc\u001b[0m\u001b[0;34m,\u001b[0m \u001b[0mlabel\u001b[0m\u001b[0;34m,\u001b[0m \u001b[0mstyle\u001b[0m\u001b[0;34m)\u001b[0m\u001b[0;34m\u001b[0m\u001b[0;34m\u001b[0m\u001b[0m\n\u001b[0m\u001b[1;32m   1089\u001b[0m \u001b[0;34m\u001b[0m\u001b[0m\n\u001b[1;32m   1090\u001b[0m     \u001b[0;32mdef\u001b[0m \u001b[0mwrite_rich_text\u001b[0m\u001b[0;34m(\u001b[0m\u001b[0mself\u001b[0m\u001b[0;34m,\u001b[0m \u001b[0mr\u001b[0m\u001b[0;34m,\u001b[0m \u001b[0mc\u001b[0m\u001b[0;34m,\u001b[0m \u001b[0mrich_text_list\u001b[0m\u001b[0;34m,\u001b[0m \u001b[0mstyle\u001b[0m\u001b[0;34m=\u001b[0m\u001b[0mStyle\u001b[0m\u001b[0;34m.\u001b[0m\u001b[0mdefault_style\u001b[0m\u001b[0;34m)\u001b[0m\u001b[0;34m:\u001b[0m\u001b[0;34m\u001b[0m\u001b[0;34m\u001b[0m\u001b[0m\n",
      "\u001b[0;32m~/anaconda3/lib/python3.7/site-packages/xlwt/Row.py\u001b[0m in \u001b[0;36mwrite\u001b[0;34m(self, col, label, style)\u001b[0m\n\u001b[1;32m    250\u001b[0m             \u001b[0mself\u001b[0m\u001b[0;34m.\u001b[0m\u001b[0minsert_cell\u001b[0m\u001b[0;34m(\u001b[0m\u001b[0mcol\u001b[0m\u001b[0;34m,\u001b[0m \u001b[0mFormulaCell\u001b[0m\u001b[0;34m(\u001b[0m\u001b[0mself\u001b[0m\u001b[0;34m.\u001b[0m\u001b[0m__idx\u001b[0m\u001b[0;34m,\u001b[0m \u001b[0mcol\u001b[0m\u001b[0;34m,\u001b[0m \u001b[0mstyle_index\u001b[0m\u001b[0;34m,\u001b[0m \u001b[0mlabel\u001b[0m\u001b[0;34m)\u001b[0m\u001b[0;34m)\u001b[0m\u001b[0;34m\u001b[0m\u001b[0;34m\u001b[0m\u001b[0m\n\u001b[1;32m    251\u001b[0m         \u001b[0;32melif\u001b[0m \u001b[0misinstance\u001b[0m\u001b[0;34m(\u001b[0m\u001b[0mlabel\u001b[0m\u001b[0;34m,\u001b[0m \u001b[0;34m(\u001b[0m\u001b[0mlist\u001b[0m\u001b[0;34m,\u001b[0m \u001b[0mtuple\u001b[0m\u001b[0;34m)\u001b[0m\u001b[0;34m)\u001b[0m\u001b[0;34m:\u001b[0m\u001b[0;34m\u001b[0m\u001b[0;34m\u001b[0m\u001b[0m\n\u001b[0;32m--> 252\u001b[0;31m             \u001b[0mself\u001b[0m\u001b[0;34m.\u001b[0m\u001b[0m__rich_text_helper\u001b[0m\u001b[0;34m(\u001b[0m\u001b[0mcol\u001b[0m\u001b[0;34m,\u001b[0m \u001b[0mlabel\u001b[0m\u001b[0;34m,\u001b[0m \u001b[0mstyle\u001b[0m\u001b[0;34m,\u001b[0m \u001b[0mstyle_index\u001b[0m\u001b[0;34m)\u001b[0m\u001b[0;34m\u001b[0m\u001b[0;34m\u001b[0m\u001b[0m\n\u001b[0m\u001b[1;32m    253\u001b[0m         \u001b[0;32melse\u001b[0m\u001b[0;34m:\u001b[0m\u001b[0;34m\u001b[0m\u001b[0;34m\u001b[0m\u001b[0m\n\u001b[1;32m    254\u001b[0m             \u001b[0;32mraise\u001b[0m \u001b[0mException\u001b[0m\u001b[0;34m(\u001b[0m\u001b[0;34m\"Unexpected data type %r\"\u001b[0m \u001b[0;34m%\u001b[0m \u001b[0mtype\u001b[0m\u001b[0;34m(\u001b[0m\u001b[0mlabel\u001b[0m\u001b[0;34m)\u001b[0m\u001b[0;34m)\u001b[0m\u001b[0;34m\u001b[0m\u001b[0;34m\u001b[0m\u001b[0m\n",
      "\u001b[0;32m~/anaconda3/lib/python3.7/site-packages/xlwt/Row.py\u001b[0m in \u001b[0;36m__rich_text_helper\u001b[0;34m(self, col, rich_text_list, style, style_index)\u001b[0m\n\u001b[1;32m    276\u001b[0m                 \u001b[0mfont\u001b[0m \u001b[0;34m=\u001b[0m \u001b[0mself\u001b[0m\u001b[0;34m.\u001b[0m\u001b[0m__parent_wb\u001b[0m\u001b[0;34m.\u001b[0m\u001b[0madd_font\u001b[0m\u001b[0;34m(\u001b[0m\u001b[0mdata\u001b[0m\u001b[0;34m[\u001b[0m\u001b[0;36m1\u001b[0m\u001b[0;34m]\u001b[0m\u001b[0;34m)\u001b[0m\u001b[0;34m\u001b[0m\u001b[0;34m\u001b[0m\u001b[0m\n\u001b[1;32m    277\u001b[0m             \u001b[0;32melse\u001b[0m\u001b[0;34m:\u001b[0m\u001b[0;34m\u001b[0m\u001b[0;34m\u001b[0m\u001b[0m\n\u001b[0;32m--> 278\u001b[0;31m                 \u001b[0;32mraise\u001b[0m \u001b[0mException\u001b[0m \u001b[0;34m(\u001b[0m\u001b[0;34m\"Unexpected data type %r\"\u001b[0m \u001b[0;34m%\u001b[0m \u001b[0mtype\u001b[0m\u001b[0;34m(\u001b[0m\u001b[0mdata\u001b[0m\u001b[0;34m)\u001b[0m\u001b[0;34m)\u001b[0m\u001b[0;34m\u001b[0m\u001b[0;34m\u001b[0m\u001b[0m\n\u001b[0m\u001b[1;32m    279\u001b[0m             \u001b[0;32mif\u001b[0m \u001b[0ms\u001b[0m\u001b[0;34m:\u001b[0m\u001b[0;34m\u001b[0m\u001b[0;34m\u001b[0m\u001b[0m\n\u001b[1;32m    280\u001b[0m                 \u001b[0mrt\u001b[0m\u001b[0;34m.\u001b[0m\u001b[0mappend\u001b[0m\u001b[0;34m(\u001b[0m\u001b[0;34m(\u001b[0m\u001b[0ms\u001b[0m\u001b[0;34m,\u001b[0m \u001b[0mfont\u001b[0m\u001b[0;34m)\u001b[0m\u001b[0;34m)\u001b[0m\u001b[0;34m\u001b[0m\u001b[0;34m\u001b[0m\u001b[0m\n",
      "\u001b[0;31mException\u001b[0m: Unexpected data type <class 'int'>"
     ]
    }
   ],
   "source": [
    "import xlwt\n",
    "from tempfile import TemporaryFile\n",
    "book = xlwt.Workbook()\n",
    "sheet1 = book.add_sheet('sheet1')\n",
    "\n",
    "supersecretdata = [34,123,4,1234,12,34,12,41,234,123,4,123,1,45123,5,43,61,3,56]\n",
    "\n",
    "for i,e in enumerate(ResultDigit):\n",
    "    sheet1.write(i,1,e)\n",
    "\n",
    "name = \"random.xls\"\n",
    "book.save(name)\n",
    "book.save(TemporaryFile())"
   ]
  },
  {
   "cell_type": "code",
   "execution_count": null,
   "metadata": {},
   "outputs": [],
   "source": []
  },
  {
   "cell_type": "code",
   "execution_count": null,
   "metadata": {},
   "outputs": [],
   "source": [
    "% ls attacks/FGSM\n",
    "ad_zero10 = plt.imread(\"attacks/FGSM/zero_new_adv15.jpg\")\n",
    "xo = resize(ad_zero10, (7, 7))\n",
    "\n",
    "\n",
    "y0 = [0]\n",
    "print(y1)\n",
    "xo = xo.reshape(1,7,7,1)\n",
    "xo = xo/255\n",
    "doto, A, g = viz.vispredict(nm,xo,y0,7,7)\n",
    "print(nm.predict(xo),0)\n",
    "doto"
   ]
  },
  {
   "cell_type": "code",
   "execution_count": null,
   "metadata": {},
   "outputs": [],
   "source": [
    "doto.render('img/attack/adversarialzeropredictedas7.gv')"
   ]
  },
  {
   "cell_type": "code",
   "execution_count": null,
   "metadata": {},
   "outputs": [],
   "source": [
    "# Generate dynamic networks for digit 0 (both original and adversarial)\n",
    "% ls attacks/FGSM/FGSM/zero/adv"
   ]
  },
  {
   "cell_type": "code",
   "execution_count": null,
   "metadata": {},
   "outputs": [],
   "source": [
    "import os\n",
    "path = \"attacks/localsearch/zero/adv\"\n",
    "advzero = os.listdir(path)\n",
    "advzero = [os.path.join(path,x) for x in advzero]\n",
    "i = 0\n",
    "for f in advzero:\n",
    "    im = plt.imread(f)\n",
    "    xo = resize(im, (7, 7))\n",
    "    xo = xo.reshape(1,7,7,1)\n",
    "    xo = xo/255\n",
    "    doto, A, g = viz.vispredict(nm,xo,[0],7,7)\n",
    "    doto.render('img/attack/evaluate/localsearch/zero/adv_zero_{0}.gv'.format(i))\n",
    "    i = i + 1"
   ]
  },
  {
   "cell_type": "code",
   "execution_count": null,
   "metadata": {},
   "outputs": [],
   "source": [
    "import os\n",
    "path = \"attacks/localsearch/zero/original\"\n",
    "advzero = os.listdir(path)\n",
    "advzero = [os.path.join(path,x) for x in advzero]\n",
    "i = 0\n",
    "for f in advzero:\n",
    "    im = plt.imread(f)\n",
    "    xo = resize(im, (7, 7))\n",
    "    xo = xo.reshape(1,7,7,1)\n",
    "    xo = xo/255\n",
    "    doto, A, g = viz.vispredict(nm,xo,[0],7,7)\n",
    "    doto.render('img/attack/evaluate/localsearch/zero/or_zero_{0}.gv'.format(i))\n",
    "    i = i + 1"
   ]
  },
  {
   "cell_type": "code",
   "execution_count": null,
   "metadata": {},
   "outputs": [],
   "source": [
    "import os\n",
    "path = \"attacks/localsearch/zero/diff\"\n",
    "advzero = os.listdir(path)\n",
    "advzero = [os.path.join(path,x) for x in advzero]\n",
    "i = 0\n",
    "for f in advzero:\n",
    "    im = plt.imread(f)\n",
    "    xo = resize(im, (7, 7))\n",
    "    xo = xo.reshape(1,7,7,1)\n",
    "    xo = xo/255\n",
    "    doto, A, g = viz.vispredict(nm,xo,[0],7,7)\n",
    "    doto.render('img/attack/evaluate/localsearch/zero/diff_zero_{0}.gv'.format(i))\n",
    "    i = i + 1"
   ]
  },
  {
   "cell_type": "code",
   "execution_count": null,
   "metadata": {},
   "outputs": [],
   "source": []
  }
 ],
 "metadata": {
  "kernelspec": {
   "display_name": "Python 3",
   "language": "python",
   "name": "python3"
  },
  "language_info": {
   "codemirror_mode": {
    "name": "ipython",
    "version": 3
   },
   "file_extension": ".py",
   "mimetype": "text/x-python",
   "name": "python",
   "nbconvert_exporter": "python",
   "pygments_lexer": "ipython3",
   "version": "3.7.1"
  }
 },
 "nbformat": 4,
 "nbformat_minor": 2
}
