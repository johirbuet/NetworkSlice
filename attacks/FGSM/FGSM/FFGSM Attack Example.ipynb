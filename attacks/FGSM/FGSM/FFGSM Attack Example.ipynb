{
 "cells": [
  {
   "cell_type": "code",
   "execution_count": 24,
   "metadata": {
    "collapsed": false
   },
   "outputs": [
    {
     "name": "stdout",
     "output_type": "stream",
     "text": [
      "/Users/mislam/anaconda/lib/python3.6/site-packages/cleverhans/attacks/__init__.py\n",
      "3.0.1-f6154d6abb55989f0392b5b3d2b0fcc7\n"
     ]
    }
   ],
   "source": [
    "# -*- coding: utf-8 -*-\n",
    "\"\"\"\n",
    "Spyder Editor\n",
    "\n",
    "This is a temporary script file.\n",
    "\"\"\"\n",
    "\n",
    "from sklearn.model_selection import train_test_split\n",
    "import pandas as pd\n",
    "\n",
    "import numpy as np\n",
    "import keras\n",
    "from keras import backend\n",
    "from keras.models import load_model\n",
    "import tensorflow as tf\n",
    "\n",
    "from cleverhans.attacks import FastGradientMethod\n",
    "from cleverhans.attacks import BasicIterativeMethod\n",
    "from cleverhans.utils_keras import KerasModelWrapper\n",
    "\n",
    "from matplotlib import pyplot as plt\n",
    "import imageio\n",
    "\n",
    "# Set the matplotlib figure size\n",
    "plt.rc('figure', figsize = (12.0, 12.0))\n",
    "\n",
    "# Set the learning phase to false, the model is pre-trained.\n",
    "backend.set_learning_phase(False)\n",
    "keras_model = load_model('Jan-13-2018.hdf5')\n",
    "import cleverhans as clv\n",
    "print(clv.attacks.__file__)\n",
    "print(clv.__version__)"
   ]
  },
  {
   "cell_type": "code",
   "execution_count": 25,
   "metadata": {
    "collapsed": false
   },
   "outputs": [
    {
     "name": "stdout",
     "output_type": "stream",
     "text": [
      "The normal validation accuracy is: 0.9942857142857143\n"
     ]
    }
   ],
   "source": [
    "seed = 27\n",
    "\n",
    "raw_data = pd.read_csv(\"train.csv\")\n",
    "train, validate = train_test_split(raw_data, \n",
    "                                   test_size=0.1,\n",
    "                                   random_state = seed, \n",
    "                                   stratify = raw_data['label'])\n",
    "\n",
    "# Split into input (X) and output (Y) variables\n",
    "x_validation = validate.values[:,1:].reshape(4200,28,28, 1)\n",
    "y_validation = validate.values[:,0]\n",
    "\n",
    "\n",
    "tf.set_random_seed(1234)\n",
    "\n",
    "if not hasattr(backend, \"tf\"):\n",
    "    raise RuntimeError(\"This tutorial requires keras to be configured\"\n",
    "                       \" to use the TensorFlow backend.\")\n",
    "\n",
    "if keras.backend.image_dim_ordering() != 'tf':\n",
    "    keras.backend.set_image_dim_ordering('tf')\n",
    "    print(\"INFO: '~/.keras/keras.json' sets 'image_dim_ordering' to \"\n",
    "          \"'th', temporarily setting to 'tf'\")\n",
    "\n",
    "# Retrieve the tensorflow session\n",
    "sess =  backend.get_session()\n",
    "\n",
    "# Define input TF placeholder\n",
    "x = tf.placeholder(tf.float32, shape=(None, 28, 28, 1))\n",
    "y = tf.placeholder(tf.float32, shape=(None, 10))\n",
    "\n",
    "# Evaluate the model's accuracy on the validation data used in training\n",
    "x_validation = x_validation.astype('float32')\n",
    "x_validation /= 255\n",
    "\n",
    "pred = np.argmax(keras_model.predict(x_validation), axis = 1)\n",
    "acc =  np.mean(np.equal(pred, y_validation))\n",
    "\n",
    "print(\"The normal validation accuracy is: {}\".format(acc))"
   ]
  },
  {
   "cell_type": "code",
   "execution_count": 21,
   "metadata": {
    "collapsed": false
   },
   "outputs": [
    {
     "name": "stdout",
     "output_type": "stream",
     "text": [
      "3.0.1-f6154d6abb55989f0392b5b3d2b0fcc7\n",
      "1.13.1\n",
      "2.2.4\n",
      "/Users/mislam/anaconda/lib/python3.6/site-packages/cleverhans/__init__.py\n"
     ]
    },
    {
     "data": {
      "text/plain": [
       "[<keras.layers.convolutional.Conv2D at 0x1a3e52b9b0>,\n",
       " <keras.layers.convolutional.Conv2D at 0x1a3e52bc18>,\n",
       " <keras.layers.pooling.MaxPooling2D at 0x1a3e54ea58>,\n",
       " <keras.layers.core.Dropout at 0x1a3e52bba8>,\n",
       " <keras.layers.convolutional.Conv2D at 0x1a3e57ee10>,\n",
       " <keras.layers.convolutional.Conv2D at 0x1a3e57eeb8>,\n",
       " <keras.layers.pooling.MaxPooling2D at 0x1a3e5ae400>,\n",
       " <keras.layers.core.Dropout at 0x1a3e54ea90>,\n",
       " <keras.layers.core.Flatten at 0x1a3e5cbc88>,\n",
       " <keras.layers.core.Dense at 0x1a3e5cb748>,\n",
       " <keras.layers.core.Dropout at 0x1a3e5e7c50>,\n",
       " <keras.layers.core.Dense at 0x1a3e5e7ac8>,\n",
       " <keras.layers.core.Dropout at 0x1a3e604d30>,\n",
       " <keras.layers.core.Dense at 0x1a3e5ae080>]"
      ]
     },
     "execution_count": 21,
     "metadata": {},
     "output_type": "execute_result"
    }
   ],
   "source": [
    "import cleverhans as clv\n",
    "import tensorflow as tf\n",
    "import keras\n",
    "import sys\n",
    "print(clv.__version__)\n",
    "print(tf.__version__)\n",
    "print(keras.__version__)\n",
    "print(clv.__file__)\n",
    "keras_model.layers"
   ]
  },
  {
   "cell_type": "code",
   "execution_count": null,
   "metadata": {
    "collapsed": false
   },
   "outputs": [],
   "source": []
  },
  {
   "cell_type": "code",
   "execution_count": null,
   "metadata": {
    "collapsed": true
   },
   "outputs": [],
   "source": []
  }
 ],
 "metadata": {
  "kernelspec": {
   "display_name": "Python 3",
   "language": "python",
   "name": "python3"
  },
  "language_info": {
   "codemirror_mode": {
    "name": "ipython",
    "version": 3
   },
   "file_extension": ".py",
   "mimetype": "text/x-python",
   "name": "python",
   "nbconvert_exporter": "python",
   "pygments_lexer": "ipython3",
   "version": "3.6.4"
  }
 },
 "nbformat": 4,
 "nbformat_minor": 2
}
